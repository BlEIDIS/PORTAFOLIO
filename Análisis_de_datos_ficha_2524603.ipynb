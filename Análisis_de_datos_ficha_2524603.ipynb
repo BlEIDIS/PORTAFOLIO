{
  "nbformat": 4,
  "nbformat_minor": 0,
  "metadata": {
    "colab": {
      "provenance": [],
      "collapsed_sections": [
        "oeqIMrNJwBKX"
      ],
      "include_colab_link": true
    },
    "kernelspec": {
      "name": "python3",
      "display_name": "Python 3"
    },
    "language_info": {
      "name": "python"
    }
  },
  "cells": [
    {
      "cell_type": "markdown",
      "metadata": {
        "id": "view-in-github",
        "colab_type": "text"
      },
      "source": [
        "<a href=\"https://colab.research.google.com/github/BlEIDIS/PORTAFOLIO/blob/main/An%C3%A1lisis_de_datos_ficha_2524603.ipynb\" target=\"_parent\"><img src=\"https://colab.research.google.com/assets/colab-badge.svg\" alt=\"Open In Colab\"/></a>"
      ]
    },
    {
      "cell_type": "code",
      "execution_count": null,
      "metadata": {
        "colab": {
          "base_uri": "https://localhost:8080/"
        },
        "id": "5RAWLRvYqv7Y",
        "outputId": "d4f9d144-b6b7-4529-f487-a4aa3188c480"
      },
      "outputs": [
        {
          "output_type": "stream",
          "name": "stdout",
          "text": [
            "hola gente de la costa\n"
          ]
        }
      ],
      "source": [
        "print(\"hola gente de la costa\")"
      ]
    },
    {
      "cell_type": "code",
      "source": [],
      "metadata": {
        "id": "pP13XFq-9Ljs"
      },
      "execution_count": null,
      "outputs": []
    },
    {
      "cell_type": "code",
      "source": [
        "import pandas as pd\n",
        "import matplotlib.pyplot as plt\n",
        "\n",
        "\n",
        "# Crea un DataFrame con los datos\n",
        "data = {\n",
        "    'ENCUESTA': [15, 42, 17, 34, 12, 18, 30, 50],\n",
        "    'EDAD': [18, 22, 14, 41, 22, 15, 30, 12],\n",
        "    'SEXO': ['M', 'M', 'F', 'M', 'M', 'M', 'M', 'F'],\n",
        "    'ESTRATO': [2, 5, 3, 3, 3, 3, 2, 1],\n",
        "    'ESTADO_CIVIL': ['S', 'C', 'S', 'V', 'S', 'S', 'C', 'S'],\n",
        "    'ZONA': ['FACATATIVA', 'FUNZA', 'MOSQUERA', 'MADRID', 'FACATATIVA', 'FACATATIVA', 'MADRID', 'FACATATIVA'],\n",
        "    'CONSUMO_POR_SEMANA': [12, 14, 8, 9, 10, 9, 2, 1],\n",
        "    'PRECIO_MAXIMO': [1041, 1325, 1499, 1034, 1022, 1025, 1111, 1099],\n",
        "    'SABOR_PREFERIDO': ['CURUBA', 'NARANJA', 'NARANJA', 'MANDARINA', 'MANDARINA', 'NARANJA', 'NARANJA', 'MANDARINA'],\n",
        "    'DESCRIPCION_SABOR': ['BUENO', 'MALO', 'REGULAR', 'EXCELENTE', 'REGULAR', 'REGULAR', 'BUENO', 'BUENO']\n",
        "}\n",
        "\n",
        "\n",
        "df = pd.DataFrame(data)\n",
        "\n",
        "# 1. Cuántas encuestas se realizaron por zona de la ciudad\n",
        "encuestas_por_zona = df.groupby('ZONA')['ENCUESTA'].sum()\n",
        "print(\"La suma de encuestas por zona de la ciudad es:\\n\", encuestas_por_zona)\n",
        "\n",
        "\n",
        "# 2. Cuántas encuestas se realizaron por estado civil\n",
        "encuestas_por_estado_civil = df.groupby('ESTADO_CIVIL')['ENCUESTA'].sum()\n",
        "print(\"el numero de encuesta por estado civil son \",encuestas_por_estado_civil)\n",
        "\n",
        "\n",
        "# 3. Cuántas encuestas se realizaron por sexo y por zona de la ciudad\n",
        "encuestas_por_sexo_ciudad = df.groupby(['SEXO', 'ZONA'])['ENCUESTA'].sum()\n",
        "print(\"Número total de encuestas por sexo y ciudad:\\n\", encuestas_por_sexo_ciudad)\n",
        "\n",
        "\n",
        "# 4. Cuál es la edad promedio por sexo y estado civil\n",
        "edad_promedio_por_sexo_estado_civil = df.groupby(['SEXO', 'ESTADO_CIVIL'])['EDAD'].mean()\n",
        "print(\"Edad promedio por sexo y estado civil:\\n\", edad_promedio_por_sexo_estado_civil)\n",
        "\n",
        "\n",
        "# 5. Número de personas por sexo por cada sabor preferido\n",
        "personas_por_sexo_sabor = df.groupby(['SEXO', 'SABOR_PREFERIDO'])['ENCUESTA'].sum()\n",
        "print(\"Número de personas por sexo y sabor preferido de acuerdo a la encuesta:\\n\", personas_por_sexo_sabor)\n",
        "\n",
        "\n",
        "# 6. Cuál es el precio máximo por descripción de sabor por estado civil\n",
        "precio_maximo_por_descripcion_sabor_estado_civil = df.groupby(['DESCRIPCION_SABOR', 'ESTADO_CIVIL'])['PRECIO_MAXIMO'].max()\n",
        "print(\"el precio máximo por descripción de sabor por estado civil : \\n \",precio_maximo_por_descripcion_sabor_estado_civil)\n",
        "\n",
        "\n",
        "# 7. Por cada zona de la ciudad, cuál es el precio máximo por sabor preferido y por descripción del sabor\n",
        "precio_maximo_por_zona_sabor_descripcion = df.groupby(['ZONA', 'SABOR_PREFERIDO', 'DESCRIPCION_SABOR'])['PRECIO_MAXIMO'].max()\n",
        "print(\"el precio máximo por sabor preferido y por descripción del sabor : \\n \",precio_maximo_por_zona_sabor_descripcion)\n",
        "\n",
        "\n",
        "# 8. Por descripción del sabor, cuál es el consumo promedio por semana por sabor preferido y por estado civil\n",
        "consumo_promedio_por_descripcion_sabor = df.groupby(['DESCRIPCION_SABOR', 'SABOR_PREFERIDO', 'ESTADO_CIVIL'])['CONSUMO_POR_SEMANA'].mean()\n",
        "print(\" el consumo promedio por semana por sabor preferido y por estado civil : \\n \",consumo_promedio_por_descripcion_sabor)\n",
        "\n",
        "\n",
        "# 9. Por sabor preferido, cuál es la edad máxima por estrato y zona de la ciudad\n",
        "edad_maxima_por_sabor_estrato_zona = df.groupby(['SABOR_PREFERIDO', 'ESTRATO', 'ZONA'])['EDAD'].max()\n",
        "print(\" la edad máxima por estrato y zona de la ciudad : \\n \",edad_maxima_por_sabor_estrato_zona)\n",
        "\n",
        "\n",
        "# 10. Cuántas personas se encuestaron por zona de la ciudad, estrato y descripción de sabor\n",
        "personas_por_zona_estrato_sabor = df.groupby(['ZONA', 'ESTRATO', 'DESCRIPCION_SABOR']).size()\n",
        "print(\"Número de personas encuestadas por zona de la ciudad, estrato y descripción de sabor:\\n\", personas_por_zona_estrato_sabor)\n",
        "\n",
        "\n",
        "\n",
        "# Asignación de campos en el eje X y eje Y\n",
        "x = encuestas_por_zona.index\n",
        "y = encuestas_por_zona.values\n",
        "# Crear un gráfico de barras\n",
        "plt.bar(x, y, color='blue')\n",
        "\n",
        "\n",
        "# Personalizar el gráfico\n",
        "\n",
        "plt.title('Número total de encuestas por sexo y ciudad')\n",
        "plt.xlabel('SEXO')\n",
        "plt.ylabel('Número de encuestas')\n",
        "plt.show()\n",
        "\n",
        "\n",
        "# 3\n",
        "x = encuestas_por_sexo_ciudad.values\n",
        "y = encuestas_por_sexo_ciudad.index\n",
        "\n",
        "# plt.title('se realizaron por sexo y por zona de la ciudad')\n",
        "# plt.xlabel('SEXO')\n",
        "# plt.ylabel('ZONA')\n",
        "# plt.bar(x, y, color='blue')\n",
        "# plt.show()\n",
        "\n",
        "\n",
        "encuestas_por_sexo_ciudad.unstack().plot(kind='bar', stacked=True)\n",
        "plt.xlabel('SEXO')\n",
        "plt.ylabel('ZONA')\n",
        "plt.title('se realizaron por sexo y por zona de la ciudad')\n",
        "plt.legend(title='Descripción de Sabor', loc='upper right')\n",
        "plt.show()\n",
        "\n",
        "# precio_maximo_por_descripcion_sabor_estado_civil.unstack().plot(kind='bar')\n",
        "# plt.xlabel('Descripción de Sabor')\n",
        "# plt.ylabel('Precio Máximo')\n",
        "# plt.title('Precio Máximo por Descripción de Sabor y Estado Civil')\n",
        "# plt.legend(title='Estado Civil', loc='upper right')\n",
        "# plt.show()\n"
      ],
      "metadata": {
        "colab": {
          "base_uri": "https://localhost:8080/",
          "height": 1000
        },
        "id": "nue4Z_VtOAec",
        "outputId": "646b529d-e0a6-4e3f-9343-6a1c6f7d10bd"
      },
      "execution_count": null,
      "outputs": [
        {
          "output_type": "stream",
          "name": "stdout",
          "text": [
            "La suma de encuestas por zona de la ciudad es:\n",
            " ZONA\n",
            "FACATATIVA    95\n",
            "FUNZA         42\n",
            "MADRID        64\n",
            "MOSQUERA      17\n",
            "Name: ENCUESTA, dtype: int64\n",
            "el numero de encuesta por estado civil son  ESTADO_CIVIL\n",
            "C     72\n",
            "S    112\n",
            "V     34\n",
            "Name: ENCUESTA, dtype: int64\n",
            "Número total de encuestas por sexo y ciudad:\n",
            " SEXO  ZONA      \n",
            "F     FACATATIVA    50\n",
            "      MOSQUERA      17\n",
            "M     FACATATIVA    45\n",
            "      FUNZA         42\n",
            "      MADRID        64\n",
            "Name: ENCUESTA, dtype: int64\n",
            "Edad promedio por sexo y estado civil:\n",
            " SEXO  ESTADO_CIVIL\n",
            "F     S               13.000000\n",
            "M     C               26.000000\n",
            "      S               18.333333\n",
            "      V               41.000000\n",
            "Name: EDAD, dtype: float64\n",
            "Número de personas por sexo y sabor preferido de acuerdo a la encuesta:\n",
            " SEXO  SABOR_PREFERIDO\n",
            "F     MANDARINA          50\n",
            "      NARANJA            17\n",
            "M     CURUBA             15\n",
            "      MANDARINA          46\n",
            "      NARANJA            90\n",
            "Name: ENCUESTA, dtype: int64\n",
            "el precio máximo por descripción de sabor por estado civil : \n",
            "  DESCRIPCION_SABOR  ESTADO_CIVIL\n",
            "BUENO              C               1111\n",
            "                   S               1099\n",
            "EXCELENTE          V               1034\n",
            "MALO               C               1325\n",
            "REGULAR            S               1499\n",
            "Name: PRECIO_MAXIMO, dtype: int64\n",
            "el precio máximo por sabor preferido y por descripción del sabor : \n",
            "  ZONA        SABOR_PREFERIDO  DESCRIPCION_SABOR\n",
            "FACATATIVA  CURUBA           BUENO                1041\n",
            "            MANDARINA        BUENO                1099\n",
            "                             REGULAR              1022\n",
            "            NARANJA          REGULAR              1025\n",
            "FUNZA       NARANJA          MALO                 1325\n",
            "MADRID      MANDARINA        EXCELENTE            1034\n",
            "            NARANJA          BUENO                1111\n",
            "MOSQUERA    NARANJA          REGULAR              1499\n",
            "Name: PRECIO_MAXIMO, dtype: int64\n",
            " el consumo promedio por semana por sabor preferido y por estado civil : \n",
            "  DESCRIPCION_SABOR  SABOR_PREFERIDO  ESTADO_CIVIL\n",
            "BUENO              CURUBA           S               12.0\n",
            "                   MANDARINA        S                1.0\n",
            "                   NARANJA          C                2.0\n",
            "EXCELENTE          MANDARINA        V                9.0\n",
            "MALO               NARANJA          C               14.0\n",
            "REGULAR            MANDARINA        S               10.0\n",
            "                   NARANJA          S                8.5\n",
            "Name: CONSUMO_POR_SEMANA, dtype: float64\n",
            " la edad máxima por estrato y zona de la ciudad : \n",
            "  SABOR_PREFERIDO  ESTRATO  ZONA      \n",
            "CURUBA           2        FACATATIVA    18\n",
            "MANDARINA        1        FACATATIVA    12\n",
            "                 3        FACATATIVA    22\n",
            "                          MADRID        41\n",
            "NARANJA          2        MADRID        30\n",
            "                 3        FACATATIVA    15\n",
            "                          MOSQUERA      14\n",
            "                 5        FUNZA         22\n",
            "Name: EDAD, dtype: int64\n",
            "Número de personas encuestadas por zona de la ciudad, estrato y descripción de sabor:\n",
            " ZONA        ESTRATO  DESCRIPCION_SABOR\n",
            "FACATATIVA  1        BUENO                1\n",
            "            2        BUENO                1\n",
            "            3        REGULAR              2\n",
            "FUNZA       5        MALO                 1\n",
            "MADRID      2        BUENO                1\n",
            "            3        EXCELENTE            1\n",
            "MOSQUERA    3        REGULAR              1\n",
            "dtype: int64\n"
          ]
        },
        {
          "output_type": "display_data",
          "data": {
            "text/plain": [
              "<Figure size 640x480 with 1 Axes>"
            ],
            "image/png": "[encoded data removed]"
          },
          "metadata": {}
        },
        {
          "output_type": "display_data",
          "data": {
            "text/plain": [
              "<Figure size 640x480 with 1 Axes>"
            ],
            "image/png": "[encoded data removed]"
          },
          "metadata": {}
        }
      ]
    },
    {
      "cell_type": "code",
      "source": [
        "import pandas as pd\n",
        "\n"
      ],
      "metadata": {
        "id": "8Ddjm7dhpXsj"
      },
      "execution_count": null,
      "outputs": []
    },
    {
      "cell_type": "code",
      "source": [
        "import pandas as pd\n",
        "import matplotlib.pyplot as plt\n",
        "# Realizamos la lectura de archivo  Divorcios_En_Colombia_20231024.csv por medio\n",
        "# del metod read_csv\n",
        "df = pd.read_csv('Divorcios_En_Colombia_20231024.csv')\n",
        "\n",
        "df\n",
        "# Asignacion de campos en el eje X y eje Y\n",
        "y = df['Divorcios']\n",
        "x = df['Departamento']\n",
        "\n",
        "# Consultar cual es el numero mayor de divorcios  en colombia\n",
        "\n",
        "max_divorcios = df['Divorcios'].max()\n",
        "\n",
        "print( \"el valor total de divorcios  es \" ,max_divorcios)\n",
        "\n",
        "# consultar en numero mayor de divorcio por departamento en colombia\n",
        "\n",
        "max_departamento = df['Departamento'].max()\n",
        "print (\"el departamento donde existen mas  divorcios  es\" ,max_departamento)\n",
        "\n",
        "# consultar el minimo numero de divorcio por departamento\n",
        "\n",
        "min_departamento = df['Departamento'].min()\n",
        "print (\"el departamento donde existen menos   divorcios  es\" ,min_departamento)\n",
        "\n",
        "# Crear un grafico de barras\n",
        "plt.bar(x,y , color = 'skyblue')\n",
        "\n",
        " # personalizar  el grafico\n",
        "plt.ylabel('Divorcios')\n",
        "plt.ylabel('Departamento')\n",
        "plt.ylabel('los mas divorciados')\n",
        "plt.ylim(0,1000)\n",
        "\n",
        "\n",
        "\n",
        "#suma divorcios departamento antioquia\n",
        "\n",
        "diAn = df.loc[df['Departamento'] == 'ANTIOQUIA', ['Divorcios']]\n",
        "print(\"La suma del departamento de antioquia es de \",diAn.sum())\n",
        "\n",
        "\n"
      ],
      "metadata": {
        "colab": {
          "base_uri": "https://localhost:8080/",
          "height": 523
        },
        "id": "jqR4XsVoJcWf",
        "outputId": "6097bf9c-8bfc-4398-db5a-f9f68c34f5a4"
      },
      "execution_count": null,
      "outputs": [
        {
          "output_type": "stream",
          "name": "stdout",
          "text": [
            "el valor total de divorcios  es  668\n",
            "el departamento donde existen mas  divorcios  es VICHADA\n",
            "el departamento donde existen menos   divorcios  es AMAZONAS\n",
            "La suma del departamento de antioquia es de  Divorcios    30510\n",
            "dtype: int64\n"
          ]
        },
        {
          "output_type": "display_data",
          "data": {
            "text/plain": [
              "<Figure size 640x480 with 1 Axes>"
            ],
            "image/png": "[encoded data removed]"
          },
          "metadata": {}
        }
      ]
    },
    {
      "cell_type": "code",
      "source": [
        "import pandas as pd\n",
        "serie = pd.Series(['Ingles','Etica','Fisica'])\n",
        "print(serie)"
      ],
      "metadata": {
        "id": "_udpWivL_yN_"
      },
      "execution_count": null,
      "outputs": []
    },
    {
      "cell_type": "code",
      "source": [
        "import pandas as pd\n",
        "serie = pd.Series([2.5,5.0,3.5,4.0,3.0], index = [\"Miguel\",\"Juan\",\"Angel\",\"Bleidis\",\"Guillermo\"])\n",
        "print(serie)"
      ],
      "metadata": {
        "id": "RqA4e2-hBZ6Q"
      },
      "execution_count": null,
      "outputs": []
    },
    {
      "cell_type": "code",
      "source": [
        "import pandas as pd\n",
        "serie = pd.Series([2.5,5.0,3.5,4.0,3.0], index = [\"Miguel\",\"Juan\",\"Angel\",\"Bleidis\",\"Guillermo\"])\n",
        "print(serie)\n",
        "\n",
        "# contar el numero de los elementos\n",
        "print(serie.size)\n",
        "# muestra el index de la serie\n",
        "print(serie.index)\n",
        "# me muestra el tipo de dato de la serie\n",
        "print(serie.dtype)"
      ],
      "metadata": {
        "id": "CysRKO1kC2N5"
      },
      "execution_count": null,
      "outputs": []
    },
    {
      "cell_type": "code",
      "source": [
        "import pandas as pd\n",
        "serie = pd.Series([2.5,5.0,3.5,4.0,3.0], index = [\"Miguel\",\"Juan\",\"Angel\",\"Bleidis\",\"Guillermo\"])\n",
        "# print(serie)\n",
        "\n",
        "print(serie.max())\n",
        "print(serie.index.max())"
      ],
      "metadata": {
        "colab": {
          "base_uri": "https://localhost:8080/"
        },
        "id": "M4Hj1leiEiY5",
        "outputId": "0ff2a7c1-b87f-4c70-c96f-569d0c73c88f"
      },
      "execution_count": null,
      "outputs": [
        {
          "output_type": "stream",
          "name": "stdout",
          "text": [
            "5.0\n",
            "Miguel\n"
          ]
        }
      ]
    },
    {
      "cell_type": "code",
      "source": [
        "import pandas as pd\n",
        "# Una serie es como un vector unidimensional para las calificaciones\n",
        "# El indice es el que permite parametrizar cada calificacion\n",
        "serie = pd.Series([2.5,5.0,3.5,4.0,3.0], index =[\"Miguel\",\"Brayan\",\"Mariana\",\"Nicolas\",\"Laura\"])\n",
        "#print(serie)\n",
        "# Si no se pasa la lista de índices se utilizan como índices los enteros del 0 al n-1,n done es el tamaño de la serie\n",
        "serie[0:5]\n",
        "\n",
        "print(serie.idxmax())\n",
        "serie.max()"
      ],
      "metadata": {
        "id": "d0Nv1eK5YyT0"
      },
      "execution_count": null,
      "outputs": []
    },
    {
      "cell_type": "code",
      "source": [
        "from pandas.core import series\n",
        "# ejercicios:\n",
        "# 1. realizar el promedio de las calificaciones de los aprendices\n",
        "\n",
        "import pandas as pd\n",
        "serie = pd.Series([2.5,5.0,3.5,4.0,3.0], index = [\"Miguel\",\"Juan\",\"Angel\",\"Bleidis\",\"Guillermo\"])\n",
        "\n",
        "lista = pd.Series([2.5,5.0,3.5,4.0,3.0])\n",
        "promedio = lista.mean()\n",
        "print(f\"El promedio es: {promedio}\")\n",
        "\n",
        "# 2. organizar los aprendices decendientemente teniendo en cuenta la calificacion\n",
        "print(serie.sort_values())\n",
        "\n",
        "# 3. Extraer los dos aprendices con menor calificacion\n",
        "serie_organizada = serie.sort_values()\n",
        "extraido = serie_organizada.iloc[:2]\n",
        "print(extraido)\n",
        "\n",
        "# 4. Contar los aprendices que su calificacion es mayor a 3.4\n",
        "aprendices_con_calificacion_mayor_3_4 = serie[serie > 3.4]\n",
        "cantidad_aprendices = len(aprendices_con_calificacion_mayor_3_4)\n",
        "print(f\"Número de aprendices con calificación mayor a 3.4: {cantidad_aprendices}\")\n"
      ],
      "metadata": {
        "id": "Sg1Mv26YbzgH"
      },
      "execution_count": null,
      "outputs": []
    },
    {
      "cell_type": "code",
      "source": [
        "import matplotlib.pyplot as plt\n",
        "\n",
        "# capturamos el numero de aprendices a ingresar\n",
        "num_aprendicez = int(input(\"Ingrese el numero de aprendices a ingresar\"))\n",
        "aprendices = []\n",
        "calificaciones = []\n",
        "\n",
        "for i in range(num_aprendicez):\n",
        "  nombre = input(\"Ingrese el nombre: \")\n",
        "  calificacion = float(input(\"Ingrese su calificacion\"))\n",
        "  # utilizamos el metodo append para agregar el valor\n",
        "  aprendices.append(nombre)\n",
        "  calificaciones.append(calificacion)\n",
        "  i = i + 1\n",
        "\n",
        "plt.bar(aprendices,calificaciones)\n",
        "\n",
        "plt.xlabel(aprendices)\n",
        "plt.ylabel(calificaciones)\n",
        "plt.title(\"Calificacion de los aprendices\")\n",
        "plt.ylim(0,5)\n"
      ],
      "metadata": {
        "id": "V96Ly_gDiPM_"
      },
      "execution_count": null,
      "outputs": []
    },
    {
      "cell_type": "code",
      "source": [
        "import matplotlib.pyplot as plt\n",
        "\n",
        "\n",
        "# capturamos el numero de aprendices a ingresar\n",
        "num_aprendicez = int(input(\"Ingrese el numero de aprendices a ingresar\"))\n",
        "aprendices = []\n",
        "calificaciones = []\n",
        "\n",
        "for i in range(num_aprendicez):\n",
        "  nombre = input(\"Ingrese el nombre: \")\n",
        "  calificacion = float(input(\"Ingrese su calificacion\"))\n",
        "  # utilizamos el metodo append para agregar el valor\n",
        "  aprendices.append(nombre)\n",
        "  calificaciones.append(calificacion)\n",
        "  i = i + 1\n",
        "\n",
        "# Calcular el promedio\n",
        "promedio = sum(calificaciones) / len(calificaciones)\n",
        "\n",
        "# Crear un gráfico de barras para mostrar las calificaciones\n",
        "plt.bar(aprendices, calificaciones)\n",
        "plt.xlabel(\"Aprendices\")\n",
        "plt.ylabel(\"Calificaciones\")\n",
        "plt.title(\"Calificaciones de los Aprendices\")\n",
        "plt.ylim(0, 5)\n",
        "# plt.axhline(y=promedio, color='r', linestyle='--', label=f\"Promedio ({promedio:.2f})\")\n",
        "plt.legend()\n",
        "plt.show()\n",
        "\n",
        "# Contar los aprendices con calificación mayor a 3.4\n",
        "calif_mayor_3_4 = [calif for calif in calificaciones if calif > 3.4]\n",
        "cantidad_aprendices = len(calif_mayor_3_4)\n",
        "\n",
        "# Crear un gráfico de barras para mostrar el resultado\n",
        "plt.bar([\"Calif. > 3.4\", \"Calif. <= 3.4\"], [cantidad_aprendices, len(calificaciones) - cantidad_aprendices])\n",
        "plt.xlabel(\"Condición\")\n",
        "plt.ylabel(\"Cantidad de Aprendices\")\n",
        "plt.title(\"Aprendices con Calificación Mayor a 3.4\")\n",
        "plt.show()\n"
      ],
      "metadata": {
        "id": "aW2eEfqtpnzz"
      },
      "execution_count": null,
      "outputs": []
    },
    {
      "cell_type": "code",
      "source": [
        "import pandas as pd\n",
        "import matplotlib.pyplot as plt\n",
        "\n",
        "aprendices = {'Nombres':[\"Miguel\",\"Mariana\",\"Brayan\",\"Nicolas\",\"Laura\"],\n",
        "              'Apellidos':[\"Martinez\",\"Guerrero\",\"Dulcey\",\"Torres\",\"Becerra\"],\n",
        "              'Genero':[\"M\",\"F\",\"M\",\"M\",\"F\"],\n",
        "              'Edad':[25,24,23,19,20]\n",
        "              }\n",
        "\n",
        "df = pd.DataFrame(aprendices)\n",
        "print(df)\n",
        "\n",
        "#edad del mayor\n",
        "edad_mayor = df['Edad'].max()\n",
        "print(\"la mayor edada es:\", edad_mayor)\n",
        "\n",
        "#promedio de edades\n",
        "edad_promedio = df ['Edad'].mean()\n",
        "print(\"el promedio de edad es:\",edad_promedio)\n",
        "\n",
        "# -De los registros del sexo masculino cuales son los de mayor edad.\n",
        "hombres = df[df['Genero'] == 'M']\n",
        "edad = df[df['Edad'] > 17]\n",
        "print(\"Aprendices masculinos de mayor edad:\")\n",
        "print(hombres)\n",
        "\n",
        "# -Filtrar los registros que tienen los apellidos martinez\n",
        "martinez = df[df['Apellidos'] == 'Martinez']\n",
        "print(\"Aprendices con apellido Martinez\")\n",
        "print(martinez)\n",
        "\n",
        "# -Mostrar solamente los registros que sean mayores a 21 años\n",
        "mayores21 = df[df['Edad'] >= 21]\n",
        "print(\"Estudiantes mayores de 21\")\n",
        "print(mayores21)\n",
        "\n",
        "# Organizar los aprendices decendentemente teniendo en cuenta la edad\n",
        "print(\"Decendiente por edad\")\n",
        "print(df['Edad'].sort_values())\n",
        "\n",
        "# -Graficar las edades de los aprendices con sus respectivos nombres\n",
        "plt.bar(df['Nombres'], df['Edad'])\n",
        "plt.ylabel(\"Nombres\")\n",
        "plt.xlabel(\"Edad\")\n",
        "plt.title(\"Edad de los Aprendices\")\n",
        "plt.legend()\n",
        "plt.show()\n",
        "\n",
        "\n",
        "# capturar por teclado los registros de informacion utilizando el data frame\n",
        "num_aprendicez = int(input(\"Ingrese el numero de aprendices a ingresar\"))\n",
        "aprendices = []\n",
        "nombres = []\n",
        "apellidos = []\n",
        "generos = []\n",
        "edades = []\n",
        "\n",
        "for i in range(num_aprendicez):\n",
        "  nombres = input(\"Ingrese el nombre: \")\n",
        "  apellidos = input(\"Ingrese su apellido: \")\n",
        "  generos = input(\"Ingrese el genero: \")\n",
        "  edades = int(input(\"Ingrese la edad: \"))\n",
        "  # utilizamos el metodo append para agregar el valor\n",
        "  aprendices.append(nombres)\n",
        "  aprendices.append(apellidos)\n",
        "  aprendices.append(generos)\n",
        "  aprendices.append(edades)\n",
        "  i = i + 1\n",
        "\n",
        "print(aprendices)\n",
        "\n"
      ],
      "metadata": {
        "colab": {
          "base_uri": "https://localhost:8080/",
          "height": 1000
        },
        "id": "sR9famJYETZf",
        "outputId": "1a038b76-40f9-425a-d710-ed392d3fb32c"
      },
      "execution_count": null,
      "outputs": [
        {
          "output_type": "stream",
          "name": "stderr",
          "text": [
            "WARNING:matplotlib.legend:No artists with labels found to put in legend.  Note that artists whose label start with an underscore are ignored when legend() is called with no argument.\n"
          ]
        },
        {
          "output_type": "stream",
          "name": "stdout",
          "text": [
            "   Nombres Apellidos Genero  Edad\n",
            "0   Miguel  Martinez      M    25\n",
            "1  Mariana  Guerrero      F    24\n",
            "2   Brayan    Dulcey      M    23\n",
            "3  Nicolas    Torres      M    19\n",
            "4    Laura   Becerra      F    20\n",
            "la mayor edada es: 25\n",
            "el promedio de edad es: 22.2\n",
            "Aprendices masculinos de mayor edad:\n",
            "   Nombres Apellidos Genero  Edad\n",
            "0   Miguel  Martinez      M    25\n",
            "2   Brayan    Dulcey      M    23\n",
            "3  Nicolas    Torres      M    19\n",
            "Aprendices con apellido Martinez\n",
            "  Nombres Apellidos Genero  Edad\n",
            "0  Miguel  Martinez      M    25\n",
            "Estudiantes mayores de 21\n",
            "   Nombres Apellidos Genero  Edad\n",
            "0   Miguel  Martinez      M    25\n",
            "1  Mariana  Guerrero      F    24\n",
            "2   Brayan    Dulcey      M    23\n",
            "Decendiente por edad\n",
            "3    19\n",
            "4    20\n",
            "2    23\n",
            "1    24\n",
            "0    25\n",
            "Name: Edad, dtype: int64\n"
          ]
        },
        {
          "output_type": "display_data",
          "data": {
            "text/plain": [
              "<Figure size 640x480 with 1 Axes>"
            ],
            "image/png": "[encoded data removed]"
          },
          "metadata": {}
        },
        {
          "output_type": "stream",
          "name": "stdout",
          "text": [
            "Ingrese el numero de aprendices a ingresar2\n",
            "Ingrese el nombre: Guillermo\n",
            "Ingrese su apellido: Nova\n",
            "Ingrese el genero: m\n",
            "Ingrese la edad: 21\n",
            "Ingrese el nombre: Bleidis\n",
            "Ingrese su apellido: Chacon\n",
            "Ingrese el genero: f\n",
            "Ingrese la edad: 30\n",
            "['Guillermo', 'Nova', 'm', 21, 'Bleidis', 'Chacon', 'f', 30]\n"
          ]
        }
      ]
    },
    {
      "cell_type": "code",
      "source": [],
      "metadata": {
        "id": "v2Noe4lgXeF7"
      },
      "execution_count": null,
      "outputs": []
    },
    {
      "cell_type": "code",
      "source": [
        "\n",
        "\n"
      ],
      "metadata": {
        "id": "Ist7iGCepDXa"
      },
      "execution_count": null,
      "outputs": []
    },
    {
      "cell_type": "markdown",
      "source": [
        "#***Guillermo texto en negrita***\n",
        "\n"
      ],
      "metadata": {
        "id": "oeqIMrNJwBKX"
      }
    },
    {
      "cell_type": "code",
      "source": [
        "\n",
        "sal = int(input(\"Su actual salario es: \"))\n",
        "\n",
        "aum = int(input(\"El aumento de su salario en porcentaje: \"))\n",
        "\n",
        "dis = int(input(\"El porcentaje de descuento por aporte es: \"))\n",
        "\n",
        "aums = (sal / 100) * aum\n",
        "\n",
        "descuento = (sal / 100) * dis\n",
        "\n",
        "sals = sal + aums\n",
        "\n",
        "salt = sals - descuento\n",
        "\n",
        "print(\"Su nuevo sueldo es de:\", salt)"
      ],
      "metadata": {
        "colab": {
          "base_uri": "https://localhost:8080/"
        },
        "id": "dXSEdCWSx7lo",
        "outputId": "ec104fa1-2f92-42e1-b7c0-4d4d334f820f"
      },
      "execution_count": null,
      "outputs": [
        {
          "output_type": "stream",
          "name": "stdout",
          "text": [
            "Su actual salario es: 1000\n",
            "El aumento de su salario en porcentaje: 10\n",
            "El porcentaje de descuento por aporte es: 50\n",
            "Su nuevo sueldo es de: 600.0\n"
          ]
        }
      ]
    },
    {
      "cell_type": "code",
      "source": [],
      "metadata": {
        "id": "qJ9zfKiODZ7x"
      },
      "execution_count": null,
      "outputs": []
    }
  ]
}